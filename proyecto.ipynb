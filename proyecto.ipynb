{
 "cells": [
  {
   "cell_type": "code",
   "execution_count": null,
   "metadata": {},
   "outputs": [],
   "source": [
    "import os\n",
    "import pathlib\n",
    "\n",
    "import matplotlib.pyplot as plt\n",
    "import numpy as np\n",
    "import seaborn as sns\n",
    "import tensorflow as tf\n",
    "import pandas as pd\n",
    "import tensorflow_text as tf_text\n",
    "\n",
    "from tensorflow.keras import layers\n",
    "from tensorflow.keras import models\n",
    "from IPython import display\n",
    "from pydub import AudioSegment\n",
    "\n",
    "seed = 42\n",
    "tf.random.set_seed(seed)\n",
    "np.random.seed(seed)"
   ]
  },
  {
   "cell_type": "code",
   "execution_count": null,
   "metadata": {},
   "outputs": [],
   "source": [
    "#asignamos el tamaño de las etiquetas y el dataframe\n",
    "infodataset = pd.read_csv(\"asr_train2.tsv\", sep=\"\\t\")\n",
    "infodataset['id']=infodataset['id'].astype(str)\n",
    "max_vocab_size = 10000\n"
   ]
  },
  {
   "cell_type": "code",
   "execution_count": null,
   "metadata": {},
   "outputs": [],
   "source": [
    "#Hacemos procesos inicales para el dataset\n",
    "Dataseth_path = \"./dataset\"\n",
    "data_dir = pathlib.Path(Dataseth_path)\n",
    "archivosAudio = tf.io.gfile.glob(str(data_dir)+ '/*')\n",
    "archivosAudio = tf.random.shuffle(archivosAudio)\n",
    "num_audios = len(archivosAudio)\n",
    "print(num_audios)\n",
    "print(archivosAudio[0])"
   ]
  },
  {
   "cell_type": "code",
   "execution_count": null,
   "metadata": {},
   "outputs": [],
   "source": [
    "def codec16k(audio_original):\n",
    "    audioAux = AudioSegment.from_file(audio_original)\n",
    "    audioAux = audioAux.set_frame_rate(16000)\n",
    "    nombreAudio = os.path.basename(os.path.abspath(audio_original))\n",
    "    os.remove(audio_original)\n",
    "    audioFin = audioAux.export(nombreAudio,format=\"wav\",codec=\"pcm_s16le\")\n",
    "    return audioFin\n"
   ]
  },
  {
   "cell_type": "code",
   "execution_count": null,
   "metadata": {},
   "outputs": [],
   "source": [
    "def decode_audio(audio_binary):\n",
    "    audio, _ = tf.audio.decode_wav(contents=audio_binary)\n",
    "    return tf.squeeze(audio, axis= -1)"
   ]
  },
  {
   "cell_type": "code",
   "execution_count": null,
   "metadata": {},
   "outputs": [],
   "source": [
    "def vectorizarEtiqueta(texto):\n",
    "    texto = texto.replace('.','')\n",
    "    tensorTexto = tf.strings.split(input = texto, sep=' ')\n",
    "    return tensorTexto\n"
   ]
  },
  {
   "cell_type": "code",
   "execution_count": null,
   "metadata": {},
   "outputs": [],
   "source": [
    "def buscar_etiqueta(audio_id):\n",
    "    etiqueta = infodataset.loc[infodataset['id']==audio_id,'normalized_text']\n",
    "    return etiqueta.iloc[0]"
   ]
  },
  {
   "cell_type": "code",
   "execution_count": null,
   "metadata": {},
   "outputs": [],
   "source": [
    "def waverformConEtiquetas(Audio):\n",
    "    etiqueta_sacada = str(buscar_etiqueta(Audio))\n",
    "    etiqueta = vectorizarEtiqueta(etiqueta_sacada)\n",
    "    AudioNormalizado = codec16k(Audio)\n",
    "    audio_binary = tf.io.read_file(AudioNormalizado)\n",
    "    AudioProcesado = decode_audio(audio_binary)\n",
    "    return AudioProcesado , etiqueta"
   ]
  },
  {
   "cell_type": "code",
   "execution_count": null,
   "metadata": {},
   "outputs": [],
   "source": [
    "AUTOTUNE = tf.data.AUTOTUNE\n",
    "Archivos_ds = tf.data.Dataset.from_tensor_slices(archivosAudio)\n",
    "waverform_ds = Archivos_ds.map(\n",
    "    map_func=waverformConEtiquetas,\n",
    "    num_parallel_calls=AUTOTUNE\n",
    ")\n"
   ]
  },
  {
   "cell_type": "code",
   "execution_count": null,
   "metadata": {},
   "outputs": [],
   "source": [
    "print(waverformConEtiquetas(\"ejemplo2.wav\"))"
   ]
  },
  {
   "cell_type": "code",
   "execution_count": null,
   "metadata": {},
   "outputs": [],
   "source": [
    "print(infodataset.to_string())"
   ]
  }
 ],
 "metadata": {
  "kernelspec": {
   "display_name": "Python 3",
   "language": "python",
   "name": "python3"
  },
  "language_info": {
   "codemirror_mode": {
    "name": "ipython",
    "version": 3
   },
   "file_extension": ".py",
   "mimetype": "text/x-python",
   "name": "python",
   "nbconvert_exporter": "python",
   "pygments_lexer": "ipython3",
   "version": "3.10.0"
  }
 },
 "nbformat": 4,
 "nbformat_minor": 2
}
